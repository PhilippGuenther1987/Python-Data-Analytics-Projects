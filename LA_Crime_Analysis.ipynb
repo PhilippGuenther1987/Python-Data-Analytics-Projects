{
 "cells": [
  {
   "cell_type": "markdown",
   "id": "35dbb208-8180-48a0-a83b-069c7cd2c7d9",
   "metadata": {},
   "source": [
    "# Building an LA-Crime Analytics Model for a Deep Crime Dive"
   ]
  },
  {
   "cell_type": "code",
   "execution_count": 226,
   "id": "e4ed49f4-8f69-483a-9347-4c598adf9f98",
   "metadata": {},
   "outputs": [],
   "source": [
    "file = 'Crime_Data_from_2020_to_Present.csv'"
   ]
  },
  {
   "cell_type": "code",
   "execution_count": 228,
   "id": "aa8aacc0-0703-4365-8f9a-a57de7cc8e1f",
   "metadata": {},
   "outputs": [],
   "source": [
    "import pandas as pd\n",
    "import numpy as np\n",
    "\n",
    "\n",
    "pd.set_option('display.max_rows', None)\n",
    "pd.set_option('display.max_columns', None)\n",
    "pd.set_option('display.max_colwidth', None)\n",
    "pd.set_option('display.expand_frame_repr', False)"
   ]
  },
  {
   "cell_type": "code",
   "execution_count": 232,
   "id": "e63b1e95-15d2-4214-b135-aa6f393937ea",
   "metadata": {},
   "outputs": [
    {
     "data": {
      "text/html": [
       "<div>\n",
       "<style scoped>\n",
       "    .dataframe tbody tr th:only-of-type {\n",
       "        vertical-align: middle;\n",
       "    }\n",
       "\n",
       "    .dataframe tbody tr th {\n",
       "        vertical-align: top;\n",
       "    }\n",
       "\n",
       "    .dataframe thead th {\n",
       "        text-align: right;\n",
       "    }\n",
       "</style>\n",
       "<table border=\"1\" class=\"dataframe\">\n",
       "  <thead>\n",
       "    <tr style=\"text-align: right;\">\n",
       "      <th></th>\n",
       "      <th>DR_NO</th>\n",
       "      <th>Date Rptd</th>\n",
       "      <th>DATE OCC</th>\n",
       "      <th>TIME OCC</th>\n",
       "      <th>AREA</th>\n",
       "      <th>AREA NAME</th>\n",
       "      <th>Rpt Dist No</th>\n",
       "      <th>Part 1-2</th>\n",
       "      <th>Crm Cd</th>\n",
       "      <th>Crm Cd Desc</th>\n",
       "      <th>Mocodes</th>\n",
       "      <th>Vict Age</th>\n",
       "      <th>Vict Sex</th>\n",
       "      <th>Vict Descent</th>\n",
       "      <th>Premis Cd</th>\n",
       "      <th>Premis Desc</th>\n",
       "      <th>Weapon Used Cd</th>\n",
       "      <th>Weapon Desc</th>\n",
       "      <th>Status</th>\n",
       "      <th>Status Desc</th>\n",
       "      <th>Crm Cd 1</th>\n",
       "      <th>Crm Cd 2</th>\n",
       "      <th>Crm Cd 3</th>\n",
       "      <th>Crm Cd 4</th>\n",
       "      <th>LOCATION</th>\n",
       "      <th>Cross Street</th>\n",
       "      <th>LAT</th>\n",
       "      <th>LON</th>\n",
       "    </tr>\n",
       "  </thead>\n",
       "  <tbody>\n",
       "    <tr>\n",
       "      <th>0</th>\n",
       "      <td>10304468</td>\n",
       "      <td>01/08/2020 12:00:00 AM</td>\n",
       "      <td>01/08/2020 12:00:00 AM</td>\n",
       "      <td>2230</td>\n",
       "      <td>3</td>\n",
       "      <td>Southwest</td>\n",
       "      <td>377</td>\n",
       "      <td>2</td>\n",
       "      <td>624</td>\n",
       "      <td>BATTERY - SIMPLE ASSAULT</td>\n",
       "      <td>0444 0913</td>\n",
       "      <td>36</td>\n",
       "      <td>F</td>\n",
       "      <td>B</td>\n",
       "      <td>501.0</td>\n",
       "      <td>SINGLE FAMILY DWELLING</td>\n",
       "      <td>400.0</td>\n",
       "      <td>STRONG-ARM (HANDS, FIST, FEET OR BODILY FORCE)</td>\n",
       "      <td>AO</td>\n",
       "      <td>Adult Other</td>\n",
       "      <td>624.0</td>\n",
       "      <td>NaN</td>\n",
       "      <td>NaN</td>\n",
       "      <td>NaN</td>\n",
       "      <td>1100 W  39TH                         PL</td>\n",
       "      <td>NaN</td>\n",
       "      <td>34.0141</td>\n",
       "      <td>-118.2978</td>\n",
       "    </tr>\n",
       "    <tr>\n",
       "      <th>1</th>\n",
       "      <td>190101086</td>\n",
       "      <td>01/02/2020 12:00:00 AM</td>\n",
       "      <td>01/01/2020 12:00:00 AM</td>\n",
       "      <td>330</td>\n",
       "      <td>1</td>\n",
       "      <td>Central</td>\n",
       "      <td>163</td>\n",
       "      <td>2</td>\n",
       "      <td>624</td>\n",
       "      <td>BATTERY - SIMPLE ASSAULT</td>\n",
       "      <td>0416 1822 1414</td>\n",
       "      <td>25</td>\n",
       "      <td>M</td>\n",
       "      <td>H</td>\n",
       "      <td>102.0</td>\n",
       "      <td>SIDEWALK</td>\n",
       "      <td>500.0</td>\n",
       "      <td>UNKNOWN WEAPON/OTHER WEAPON</td>\n",
       "      <td>IC</td>\n",
       "      <td>Invest Cont</td>\n",
       "      <td>624.0</td>\n",
       "      <td>NaN</td>\n",
       "      <td>NaN</td>\n",
       "      <td>NaN</td>\n",
       "      <td>700 S  HILL                         ST</td>\n",
       "      <td>NaN</td>\n",
       "      <td>34.0459</td>\n",
       "      <td>-118.2545</td>\n",
       "    </tr>\n",
       "  </tbody>\n",
       "</table>\n",
       "</div>"
      ],
      "text/plain": [
       "       DR_NO               Date Rptd                DATE OCC  TIME OCC  AREA  AREA NAME  Rpt Dist No  Part 1-2  Crm Cd               Crm Cd Desc         Mocodes  Vict Age Vict Sex Vict Descent  Premis Cd             Premis Desc  Weapon Used Cd                                     Weapon Desc Status  Status Desc  Crm Cd 1  Crm Cd 2  Crm Cd 3  Crm Cd 4                                 LOCATION Cross Street      LAT       LON\n",
       "0   10304468  01/08/2020 12:00:00 AM  01/08/2020 12:00:00 AM      2230     3  Southwest          377         2     624  BATTERY - SIMPLE ASSAULT       0444 0913        36        F            B      501.0  SINGLE FAMILY DWELLING           400.0  STRONG-ARM (HANDS, FIST, FEET OR BODILY FORCE)     AO  Adult Other     624.0       NaN       NaN       NaN  1100 W  39TH                         PL          NaN  34.0141 -118.2978\n",
       "1  190101086  01/02/2020 12:00:00 AM  01/01/2020 12:00:00 AM       330     1    Central          163         2     624  BATTERY - SIMPLE ASSAULT  0416 1822 1414        25        M            H      102.0                SIDEWALK           500.0                     UNKNOWN WEAPON/OTHER WEAPON     IC  Invest Cont     624.0       NaN       NaN       NaN   700 S  HILL                         ST          NaN  34.0459 -118.2545"
      ]
     },
     "execution_count": 232,
     "metadata": {},
     "output_type": "execute_result"
    }
   ],
   "source": [
    "df = pd.read_csv(file)\n",
    "df.head(2)"
   ]
  },
  {
   "cell_type": "markdown",
   "id": "8433c5d1-7670-45e8-a35a-1992828cd0d4",
   "metadata": {},
   "source": [
    "# Explaining the datase"
   ]
  },
  {
   "cell_type": "markdown",
   "id": "2e98069b-7fd4-41a8-9463-3421f464fd0a",
   "metadata": {},
   "source": [
    "- **DR_NO (Division of Records Number)**: This is the unique identification number or case number assigned to each crime report. It serves as a unique identifier for a specific incident in the database.\n",
    "\n",
    "- **Date Rptd (Date Reported)**: The date when the incident was reported to the police. This is not necessarily the date the crime occurred, but the date it was brought to the attention of law enforcement.\n",
    "\n",
    "- **DATE OCC (Date of Occurrence)**: The actual date when the crime took place. This may differ from the reported date, especially if the crime was discovered later.\n",
    "\n",
    "- **TIME OCC (Time of Occurrence)**: The time when the crime occurred, usually recorded in 24-hour format.\n",
    "\n",
    "- **AREA**: A numerical code representing the geographic area (often a police district) where the crime occurred.\n",
    "\n",
    "- **AREA NAME**: The name of the geographic area or police district where the crime took place. For example, \"Hollywood\" or \"Central.\"\n",
    "\n",
    "- **Rpt Dist No (Reporting District Number)**: A more specific geographic subdivision within a police district. This number identifies a smaller area within the larger district.\n",
    "\n",
    "- **Part 1-2**: This column classifies the crime as a \"Part 1\" or \"Part 2\" offense. \"Part 1\" crimes are more serious (e.g., murder, rape, robbery), while \"Part 2\" crimes include less severe offenses (e.g., vandalism, drunkenness).\n",
    "\n",
    "- **Crm Cd (Crime Code)**: A numerical code that describes the specific type of crime. Each code corresponds to a particular offense, such as burglary, theft, or assault.\n",
    "\n",
    "- **Crm Cd Desc (Crime Code Description)**: A text description of the crime, explaining what the corresponding \"Crm Cd\" means. For example, \"440\" might refer to \"Auto Theft.\"\n",
    "\n",
    "\n",
    "- **Mocodes**: Method of operation codes, providing details about how the crime was committed. This column has some missing values.\n",
    "\n",
    "- **Vict Age (Victim Age)**: The age of the victim involved in the crime.\n",
    "\n",
    "- **Vict Sex (Victim Sex)**:The sex of the victim, such as male (M), female (F), or other categories. This column has some missing values.\n",
    "\n",
    "- **Vict Descent (Victim Descent)**:The ethnic descent of the victim, such as Hispanic, African-American, Asian, etc. This column also has some missing values.\n",
    "\n",
    "- **Premis Cd (Premise Code)**:A numerical code that indicates the type of location where the crime occurred, such as a residence, commercial building, or public space. This column has a small number of missing values.\n",
    "\n",
    "- **Premis Desc (Premise Description)**:A text description of the location type, corresponding to the Premis Cd. For example, \"Single Family Dwelling\" or \"Retail Store.\" This column has some missing values.\n",
    "\n",
    "- **Weapon Used Cd (Weapon Used Code)**:A numerical code indicating the type of weapon used in the crime, if any. This column has a significant number of missing values, indicating that many crimes did not involve a weapon.\n",
    "\n",
    "- **Weapon Desc (Weapon Description)**:A text description of the weapon used, corresponding to the Weapon Used Cd. For example, \"Handgun\" or \"Knife.\" This column has the same missing values as Weapon Used Cd.\n",
    "\n",
    "- **Status**: A code indicating the current status of the case, such as whether the case is still open or has been resolved.\n",
    "\n",
    "- **Status Desc (Status Description)**: A text description of the status, explaining what the status code represents, such as \"Open\" or \"Closed.\"\n",
    "\n",
    "- **Crm Cd 1, Crm Cd 2, Crm Cd 3, Crm Cd 4**: These columns allow for the recording of up to four different offenses in a single incident, in case multiple crimes were committed simultaneously.\n",
    "\n",
    "- **LOCATION**: The address or location where the crime occurred. This could be a specific address or a general description of the location.\n",
    "\n",
    "- **Cross Street**: If available, this indicates the nearest cross street to further pinpoint the location of the incident.\n",
    "\n",
    "- **LAT (Latitude)**: The geographical latitude of the crime scene. This is a numerical value indicating the location’s position north or south on the Earth.\n",
    "\n",
    "- **LON (Longitude)**: The geographical longitude of the crime scene. This is a numerical value indicating the location’s position east or west on the Earth."
   ]
  },
  {
   "cell_type": "markdown",
   "id": "78c2d2a1-3bc5-4ec3-9e2d-b444057ad7da",
   "metadata": {},
   "source": [
    "# Dataset Information"
   ]
  },
  {
   "cell_type": "code",
   "execution_count": 234,
   "id": "d9d0e694-c3b9-42bb-a90f-47d6a374c3fd",
   "metadata": {},
   "outputs": [
    {
     "name": "stdout",
     "output_type": "stream",
     "text": [
      "<class 'pandas.core.frame.DataFrame'>\n",
      "RangeIndex: 708084 entries, 0 to 708083\n",
      "Data columns (total 28 columns):\n",
      " #   Column          Non-Null Count   Dtype  \n",
      "---  ------          --------------   -----  \n",
      " 0   DR_NO           708084 non-null  int64  \n",
      " 1   Date Rptd       708084 non-null  object \n",
      " 2   DATE OCC        708084 non-null  object \n",
      " 3   TIME OCC        708084 non-null  int64  \n",
      " 4   AREA            708084 non-null  int64  \n",
      " 5   AREA NAME       708084 non-null  object \n",
      " 6   Rpt Dist No     708084 non-null  int64  \n",
      " 7   Part 1-2        708084 non-null  int64  \n",
      " 8   Crm Cd          708084 non-null  int64  \n",
      " 9   Crm Cd Desc     708084 non-null  object \n",
      " 10  Mocodes         610782 non-null  object \n",
      " 11  Vict Age        708084 non-null  int64  \n",
      " 12  Vict Sex        615442 non-null  object \n",
      " 13  Vict Descent    615436 non-null  object \n",
      " 14  Premis Cd       708076 non-null  float64\n",
      " 15  Premis Desc     707699 non-null  object \n",
      " 16  Weapon Used Cd  245937 non-null  float64\n",
      " 17  Weapon Desc     245937 non-null  object \n",
      " 18  Status          708084 non-null  object \n",
      " 19  Status Desc     708084 non-null  object \n",
      " 20  Crm Cd 1        708075 non-null  float64\n",
      " 21  Crm Cd 2        52707 non-null   float64\n",
      " 22  Crm Cd 3        1774 non-null    float64\n",
      " 23  Crm Cd 4        54 non-null      float64\n",
      " 24  LOCATION        708084 non-null  object \n",
      " 25  Cross Street    114624 non-null  object \n",
      " 26  LAT             708084 non-null  float64\n",
      " 27  LON             708084 non-null  float64\n",
      "dtypes: float64(8), int64(7), object(13)\n",
      "memory usage: 151.3+ MB\n"
     ]
    }
   ],
   "source": [
    "df.info()"
   ]
  },
  {
   "cell_type": "code",
   "execution_count": 236,
   "id": "1ae3d169-9878-4adb-af69-87b9a003f73d",
   "metadata": {},
   "outputs": [
    {
     "data": {
      "text/plain": [
       "object     13\n",
       "float64     8\n",
       "int64       7\n",
       "Name: count, dtype: int64"
      ]
     },
     "execution_count": 236,
     "metadata": {},
     "output_type": "execute_result"
    }
   ],
   "source": [
    "df.dtypes.value_counts()"
   ]
  },
  {
   "cell_type": "markdown",
   "id": "e554f5bf-5de7-41c9-b9ca-f0a789d434a1",
   "metadata": {},
   "source": [
    "- So we see that we have 13 categorical features\n",
    "- And we have 15 numerical features"
   ]
  },
  {
   "cell_type": "markdown",
   "id": "d87372ce-7faf-4e18-83d7-c985ea8db2dd",
   "metadata": {},
   "source": [
    "**Find Missing Values**"
   ]
  },
  {
   "cell_type": "code",
   "execution_count": 240,
   "id": "3f83fa31-cc11-475f-9e8d-f46c499ab872",
   "metadata": {},
   "outputs": [
    {
     "data": {
      "text/plain": [
       "DR_NO                  0\n",
       "Date Rptd              0\n",
       "DATE OCC               0\n",
       "TIME OCC               0\n",
       "AREA                   0\n",
       "AREA NAME              0\n",
       "Rpt Dist No            0\n",
       "Part 1-2               0\n",
       "Crm Cd                 0\n",
       "Crm Cd Desc            0\n",
       "Mocodes            97302\n",
       "Vict Age               0\n",
       "Vict Sex           92642\n",
       "Vict Descent       92648\n",
       "Premis Cd              8\n",
       "Premis Desc          385\n",
       "Weapon Used Cd    462147\n",
       "Weapon Desc       462147\n",
       "Status                 0\n",
       "Status Desc            0\n",
       "Crm Cd 1               9\n",
       "Crm Cd 2          655377\n",
       "Crm Cd 3          706310\n",
       "Crm Cd 4          708030\n",
       "LOCATION               0\n",
       "Cross Street      593460\n",
       "LAT                    0\n",
       "LON                    0\n",
       "dtype: int64"
      ]
     },
     "execution_count": 240,
     "metadata": {},
     "output_type": "execute_result"
    }
   ],
   "source": [
    "df.isnull().sum()"
   ]
  },
  {
   "cell_type": "code",
   "execution_count": 242,
   "id": "88a6e431-894d-4f1e-8e43-96551db39a74",
   "metadata": {},
   "outputs": [
    {
     "data": {
      "text/html": [
       "<div>\n",
       "<style scoped>\n",
       "    .dataframe tbody tr th:only-of-type {\n",
       "        vertical-align: middle;\n",
       "    }\n",
       "\n",
       "    .dataframe tbody tr th {\n",
       "        vertical-align: top;\n",
       "    }\n",
       "\n",
       "    .dataframe thead th {\n",
       "        text-align: right;\n",
       "    }\n",
       "</style>\n",
       "<table border=\"1\" class=\"dataframe\">\n",
       "  <thead>\n",
       "    <tr style=\"text-align: right;\">\n",
       "      <th></th>\n",
       "      <th>DR_NO</th>\n",
       "      <th>Date Rptd</th>\n",
       "      <th>DATE OCC</th>\n",
       "      <th>TIME OCC</th>\n",
       "      <th>AREA</th>\n",
       "      <th>AREA NAME</th>\n",
       "      <th>Rpt Dist No</th>\n",
       "      <th>Part 1-2</th>\n",
       "      <th>Crm Cd</th>\n",
       "      <th>Crm Cd Desc</th>\n",
       "      <th>Mocodes</th>\n",
       "      <th>Vict Age</th>\n",
       "      <th>Vict Sex</th>\n",
       "      <th>Vict Descent</th>\n",
       "      <th>Premis Cd</th>\n",
       "      <th>Premis Desc</th>\n",
       "      <th>Weapon Used Cd</th>\n",
       "      <th>Weapon Desc</th>\n",
       "      <th>Status</th>\n",
       "      <th>Status Desc</th>\n",
       "      <th>Crm Cd 1</th>\n",
       "      <th>Crm Cd 2</th>\n",
       "      <th>Crm Cd 3</th>\n",
       "      <th>Crm Cd 4</th>\n",
       "      <th>LOCATION</th>\n",
       "      <th>Cross Street</th>\n",
       "      <th>LAT</th>\n",
       "      <th>LON</th>\n",
       "    </tr>\n",
       "  </thead>\n",
       "  <tbody>\n",
       "    <tr>\n",
       "      <th>Missing Values</th>\n",
       "      <td>0.0</td>\n",
       "      <td>0.0</td>\n",
       "      <td>0.0</td>\n",
       "      <td>0.0</td>\n",
       "      <td>0.0</td>\n",
       "      <td>0.0</td>\n",
       "      <td>0.0</td>\n",
       "      <td>0.0</td>\n",
       "      <td>0.0</td>\n",
       "      <td>0.0</td>\n",
       "      <td>97302.00</td>\n",
       "      <td>0.0</td>\n",
       "      <td>92642.00</td>\n",
       "      <td>92648.00</td>\n",
       "      <td>8.0</td>\n",
       "      <td>385.00</td>\n",
       "      <td>462147.00</td>\n",
       "      <td>462147.00</td>\n",
       "      <td>0.0</td>\n",
       "      <td>0.0</td>\n",
       "      <td>9.0</td>\n",
       "      <td>655377.00</td>\n",
       "      <td>706310.00</td>\n",
       "      <td>708030.00</td>\n",
       "      <td>0.0</td>\n",
       "      <td>593460.00</td>\n",
       "      <td>0.0</td>\n",
       "      <td>0.0</td>\n",
       "    </tr>\n",
       "    <tr>\n",
       "      <th>in %</th>\n",
       "      <td>0.0</td>\n",
       "      <td>0.0</td>\n",
       "      <td>0.0</td>\n",
       "      <td>0.0</td>\n",
       "      <td>0.0</td>\n",
       "      <td>0.0</td>\n",
       "      <td>0.0</td>\n",
       "      <td>0.0</td>\n",
       "      <td>0.0</td>\n",
       "      <td>0.0</td>\n",
       "      <td>13.74</td>\n",
       "      <td>0.0</td>\n",
       "      <td>13.08</td>\n",
       "      <td>13.08</td>\n",
       "      <td>0.0</td>\n",
       "      <td>0.05</td>\n",
       "      <td>65.27</td>\n",
       "      <td>65.27</td>\n",
       "      <td>0.0</td>\n",
       "      <td>0.0</td>\n",
       "      <td>0.0</td>\n",
       "      <td>92.56</td>\n",
       "      <td>99.75</td>\n",
       "      <td>99.99</td>\n",
       "      <td>0.0</td>\n",
       "      <td>83.81</td>\n",
       "      <td>0.0</td>\n",
       "      <td>0.0</td>\n",
       "    </tr>\n",
       "  </tbody>\n",
       "</table>\n",
       "</div>"
      ],
      "text/plain": [
       "                DR_NO  Date Rptd  DATE OCC  TIME OCC  AREA  AREA NAME  Rpt Dist No  Part 1-2  Crm Cd  Crm Cd Desc   Mocodes  Vict Age  Vict Sex  Vict Descent  Premis Cd  Premis Desc  Weapon Used Cd  Weapon Desc  Status  Status Desc  Crm Cd 1   Crm Cd 2   Crm Cd 3   Crm Cd 4  LOCATION  Cross Street  LAT  LON\n",
       "Missing Values    0.0        0.0       0.0       0.0   0.0        0.0          0.0       0.0     0.0          0.0  97302.00       0.0  92642.00      92648.00        8.0       385.00       462147.00    462147.00     0.0          0.0       9.0  655377.00  706310.00  708030.00       0.0     593460.00  0.0  0.0\n",
       "in %              0.0        0.0       0.0       0.0   0.0        0.0          0.0       0.0     0.0          0.0     13.74       0.0     13.08         13.08        0.0         0.05           65.27        65.27     0.0          0.0       0.0      92.56      99.75      99.99       0.0         83.81  0.0  0.0"
      ]
     },
     "execution_count": 242,
     "metadata": {},
     "output_type": "execute_result"
    }
   ],
   "source": [
    "missing_values = df.isnull().sum()\n",
    "missing_values_procent = (missing_values / df.shape[0]) * 100\n",
    "missing_values_df = pd.DataFrame({\n",
    "    'Missing Values': missing_values,\n",
    "    'in %': missing_values_procent.round(2)\n",
    "})\n",
    "\n",
    "missing_values_df.T"
   ]
  },
  {
   "cell_type": "markdown",
   "id": "3fca7281-b3d7-4d8a-841e-26db59dfe1ee",
   "metadata": {},
   "source": [
    "**Insights & Explanations**\n",
    "- By looking at the missing values of the dataset we find six features which are missing a lot of data. I will not replace the missing values with self-generated values, since this will totally distort the dataset and the insights we will later gain out of it. So I will delete these features.\n",
    "- Deleted features will be: Weapon Used Cd, Crm Cd 2, Crm Cd 3, Crm Cd 4, Cross Street\n",
    "- It could be a future task for the police to be more attentive to correctly fill in the data\n",
    "- For the features Mocodes, Vict Sex, Vict Descent, Prmis Cd, Premis Desc I will manually replace the missing values with either the mean of the numerical feature or the most frequency of the categorical feature"
   ]
  },
  {
   "cell_type": "markdown",
   "id": "c7044911-4435-4112-8ec9-ff469832ec3d",
   "metadata": {},
   "source": [
    "**Drop features**"
   ]
  },
  {
   "cell_type": "code",
   "execution_count": 246,
   "id": "39ac583b-5fa1-4a68-9fd5-72c3623b1379",
   "metadata": {},
   "outputs": [],
   "source": [
    "df = df.drop(['DR_NO','Weapon Used Cd','Weapon Desc', 'Crm Cd 2', 'Crm Cd 3', 'Crm Cd 4', 'Cross Street'], axis=1)"
   ]
  },
  {
   "cell_type": "markdown",
   "id": "da10075a-8c4b-4ae0-a087-367078221647",
   "metadata": {},
   "source": [
    "**Repalce missing values**"
   ]
  },
  {
   "cell_type": "code",
   "execution_count": 249,
   "id": "8c10817c-f596-4c48-b68c-a497dd6a459e",
   "metadata": {},
   "outputs": [],
   "source": [
    "df['Vict Age'].fillna(df['Vict Age'].mean(), inplace=True)\n",
    "df['Premis Cd'].fillna(df['Premis Cd'].mean(), inplace=True)\n",
    "df['Mocodes'].fillna(df['Mocodes'].mode()[0], inplace=True)\n",
    "df['Vict Sex'].fillna(df['Vict Sex'].mode()[0], inplace=True)\n",
    "df['Vict Descent'].fillna(df['Vict Descent'].mode()[0], inplace=True)\n",
    "df['Premis Desc'].fillna(df['Premis Desc'].mode()[0], inplace=True)"
   ]
  },
  {
   "cell_type": "code",
   "execution_count": 251,
   "id": "d91e7d8e-2ab2-42f2-b88a-1b8729ddd7a0",
   "metadata": {},
   "outputs": [
    {
     "data": {
      "text/plain": [
       "Date Rptd       0\n",
       "DATE OCC        0\n",
       "TIME OCC        0\n",
       "AREA            0\n",
       "AREA NAME       0\n",
       "Rpt Dist No     0\n",
       "Part 1-2        0\n",
       "Crm Cd          0\n",
       "Crm Cd Desc     0\n",
       "Mocodes         0\n",
       "Vict Age        0\n",
       "Vict Sex        0\n",
       "Vict Descent    0\n",
       "Premis Cd       0\n",
       "Premis Desc     0\n",
       "Status          0\n",
       "Status Desc     0\n",
       "Crm Cd 1        9\n",
       "LOCATION        0\n",
       "LAT             0\n",
       "LON             0\n",
       "dtype: int64"
      ]
     },
     "execution_count": 251,
     "metadata": {},
     "output_type": "execute_result"
    }
   ],
   "source": [
    "df.isnull().sum() # proof"
   ]
  },
  {
   "cell_type": "markdown",
   "id": "4bd53409-212c-49d5-8e44-45d8ba9236c7",
   "metadata": {},
   "source": [
    "**Handling Date and Time Features**"
   ]
  },
  {
   "cell_type": "code",
   "execution_count": 254,
   "id": "e474826c-fded-4d28-ae64-2e6b1d29120c",
   "metadata": {},
   "outputs": [
    {
     "name": "stderr",
     "output_type": "stream",
     "text": [
      "/var/folders/jr/887rxn_n5nn1d9cjrnh9h7yh0000gn/T/ipykernel_17626/2630310296.py:1: UserWarning: Could not infer format, so each element will be parsed individually, falling back to `dateutil`. To ensure parsing is consistent and as-expected, please specify a format.\n",
      "  df['Date Rptd'] = pd.to_datetime(df['Date Rptd'])\n",
      "/var/folders/jr/887rxn_n5nn1d9cjrnh9h7yh0000gn/T/ipykernel_17626/2630310296.py:2: UserWarning: Could not infer format, so each element will be parsed individually, falling back to `dateutil`. To ensure parsing is consistent and as-expected, please specify a format.\n",
      "  df['DATE OCC'] = pd.to_datetime(df['DATE OCC'])\n"
     ]
    }
   ],
   "source": [
    "df['Date Rptd'] = pd.to_datetime(df['Date Rptd'])\n",
    "df['DATE OCC'] = pd.to_datetime(df['DATE OCC'])"
   ]
  },
  {
   "cell_type": "code",
   "execution_count": 260,
   "id": "fb39d1c3-4e9a-4a88-b234-082cc61eff46",
   "metadata": {},
   "outputs": [],
   "source": [
    "df['Reporting_Year'] = df['Date Rptd'].dt.year\n",
    "df['Reporting_Month'] = df['Date Rptd'].dt.month\n",
    "df['Reporting_Day'] = df['Date Rptd'].dt.day\n",
    "\n",
    "df['Actual_Year'] = df['DATE OCC'].dt.year\n",
    "df['Actual_Month'] = df['DATE OCC'].dt.month\n",
    "df['Actual_Day'] = df['DATE OCC'].dt.day\n",
    "\n",
    "df = df.drop(['Date Rptd', 'DATE OCC'], axis=1) "
   ]
  },
  {
   "cell_type": "markdown",
   "id": "4a5f639b-334f-42c1-ab26-5c8d631ef4b6",
   "metadata": {},
   "source": [
    "**New order**"
   ]
  },
  {
   "cell_type": "code",
   "execution_count": 270,
   "id": "2a8363b8-7fc6-44b2-b6a6-c0a1f68d9bac",
   "metadata": {},
   "outputs": [],
   "source": [
    "new_order_list = ['Reporting_Year', 'Reporting_Month', 'Reporting_Day', 'Actual_Year', 'Actual_Month', 'Actual_Day']\n",
    "new_order = new_order_list + [col for col in df.columns if col not in new_order_list]\n",
    "df = df[new_order]"
   ]
  },
  {
   "cell_type": "code",
   "execution_count": 272,
   "id": "af53e15e-62fd-4e82-b26d-266c3cac3e7d",
   "metadata": {},
   "outputs": [
    {
     "data": {
      "text/html": [
       "<div>\n",
       "<style scoped>\n",
       "    .dataframe tbody tr th:only-of-type {\n",
       "        vertical-align: middle;\n",
       "    }\n",
       "\n",
       "    .dataframe tbody tr th {\n",
       "        vertical-align: top;\n",
       "    }\n",
       "\n",
       "    .dataframe thead th {\n",
       "        text-align: right;\n",
       "    }\n",
       "</style>\n",
       "<table border=\"1\" class=\"dataframe\">\n",
       "  <thead>\n",
       "    <tr style=\"text-align: right;\">\n",
       "      <th></th>\n",
       "      <th>Reporting_Year</th>\n",
       "      <th>Reporting_Month</th>\n",
       "      <th>Reporting_Day</th>\n",
       "      <th>Actual_Year</th>\n",
       "      <th>Actual_Month</th>\n",
       "      <th>Actual_Day</th>\n",
       "      <th>TIME OCC</th>\n",
       "      <th>AREA</th>\n",
       "      <th>AREA NAME</th>\n",
       "      <th>Rpt Dist No</th>\n",
       "      <th>Part 1-2</th>\n",
       "      <th>Crm Cd</th>\n",
       "      <th>Crm Cd Desc</th>\n",
       "      <th>Mocodes</th>\n",
       "      <th>Vict Age</th>\n",
       "      <th>Vict Sex</th>\n",
       "      <th>Vict Descent</th>\n",
       "      <th>Premis Cd</th>\n",
       "      <th>Premis Desc</th>\n",
       "      <th>Status</th>\n",
       "      <th>Status Desc</th>\n",
       "      <th>Crm Cd 1</th>\n",
       "      <th>LOCATION</th>\n",
       "      <th>LAT</th>\n",
       "      <th>LON</th>\n",
       "    </tr>\n",
       "  </thead>\n",
       "  <tbody>\n",
       "    <tr>\n",
       "      <th>0</th>\n",
       "      <td>2020</td>\n",
       "      <td>1</td>\n",
       "      <td>8</td>\n",
       "      <td>2020</td>\n",
       "      <td>1</td>\n",
       "      <td>8</td>\n",
       "      <td>2230</td>\n",
       "      <td>3</td>\n",
       "      <td>Southwest</td>\n",
       "      <td>377</td>\n",
       "      <td>2</td>\n",
       "      <td>624</td>\n",
       "      <td>BATTERY - SIMPLE ASSAULT</td>\n",
       "      <td>0444 0913</td>\n",
       "      <td>36</td>\n",
       "      <td>F</td>\n",
       "      <td>B</td>\n",
       "      <td>501.0</td>\n",
       "      <td>SINGLE FAMILY DWELLING</td>\n",
       "      <td>AO</td>\n",
       "      <td>Adult Other</td>\n",
       "      <td>624.0</td>\n",
       "      <td>1100 W  39TH                         PL</td>\n",
       "      <td>34.0141</td>\n",
       "      <td>-118.2978</td>\n",
       "    </tr>\n",
       "    <tr>\n",
       "      <th>1</th>\n",
       "      <td>2020</td>\n",
       "      <td>1</td>\n",
       "      <td>2</td>\n",
       "      <td>2020</td>\n",
       "      <td>1</td>\n",
       "      <td>1</td>\n",
       "      <td>330</td>\n",
       "      <td>1</td>\n",
       "      <td>Central</td>\n",
       "      <td>163</td>\n",
       "      <td>2</td>\n",
       "      <td>624</td>\n",
       "      <td>BATTERY - SIMPLE ASSAULT</td>\n",
       "      <td>0416 1822 1414</td>\n",
       "      <td>25</td>\n",
       "      <td>M</td>\n",
       "      <td>H</td>\n",
       "      <td>102.0</td>\n",
       "      <td>SIDEWALK</td>\n",
       "      <td>IC</td>\n",
       "      <td>Invest Cont</td>\n",
       "      <td>624.0</td>\n",
       "      <td>700 S  HILL                         ST</td>\n",
       "      <td>34.0459</td>\n",
       "      <td>-118.2545</td>\n",
       "    </tr>\n",
       "    <tr>\n",
       "      <th>2</th>\n",
       "      <td>2020</td>\n",
       "      <td>4</td>\n",
       "      <td>14</td>\n",
       "      <td>2020</td>\n",
       "      <td>2</td>\n",
       "      <td>13</td>\n",
       "      <td>1200</td>\n",
       "      <td>1</td>\n",
       "      <td>Central</td>\n",
       "      <td>155</td>\n",
       "      <td>2</td>\n",
       "      <td>845</td>\n",
       "      <td>SEX OFFENDER REGISTRANT OUT OF COMPLIANCE</td>\n",
       "      <td>1501</td>\n",
       "      <td>0</td>\n",
       "      <td>X</td>\n",
       "      <td>X</td>\n",
       "      <td>726.0</td>\n",
       "      <td>POLICE FACILITY</td>\n",
       "      <td>AA</td>\n",
       "      <td>Adult Arrest</td>\n",
       "      <td>845.0</td>\n",
       "      <td>200 E  6TH                          ST</td>\n",
       "      <td>34.0448</td>\n",
       "      <td>-118.2474</td>\n",
       "    </tr>\n",
       "    <tr>\n",
       "      <th>3</th>\n",
       "      <td>2020</td>\n",
       "      <td>1</td>\n",
       "      <td>1</td>\n",
       "      <td>2020</td>\n",
       "      <td>1</td>\n",
       "      <td>1</td>\n",
       "      <td>1730</td>\n",
       "      <td>15</td>\n",
       "      <td>N Hollywood</td>\n",
       "      <td>1543</td>\n",
       "      <td>2</td>\n",
       "      <td>745</td>\n",
       "      <td>VANDALISM - MISDEAMEANOR ($399 OR UNDER)</td>\n",
       "      <td>0329 1402</td>\n",
       "      <td>76</td>\n",
       "      <td>F</td>\n",
       "      <td>W</td>\n",
       "      <td>502.0</td>\n",
       "      <td>MULTI-UNIT DWELLING (APARTMENT, DUPLEX, ETC)</td>\n",
       "      <td>IC</td>\n",
       "      <td>Invest Cont</td>\n",
       "      <td>745.0</td>\n",
       "      <td>5400    CORTEEN                      PL</td>\n",
       "      <td>34.1685</td>\n",
       "      <td>-118.4019</td>\n",
       "    </tr>\n",
       "    <tr>\n",
       "      <th>4</th>\n",
       "      <td>2020</td>\n",
       "      <td>1</td>\n",
       "      <td>1</td>\n",
       "      <td>2020</td>\n",
       "      <td>1</td>\n",
       "      <td>1</td>\n",
       "      <td>415</td>\n",
       "      <td>19</td>\n",
       "      <td>Mission</td>\n",
       "      <td>1998</td>\n",
       "      <td>2</td>\n",
       "      <td>740</td>\n",
       "      <td>VANDALISM - FELONY ($400 &amp; OVER, ALL CHURCH VANDALISMS)</td>\n",
       "      <td>0329</td>\n",
       "      <td>31</td>\n",
       "      <td>X</td>\n",
       "      <td>X</td>\n",
       "      <td>409.0</td>\n",
       "      <td>BEAUTY SUPPLY STORE</td>\n",
       "      <td>IC</td>\n",
       "      <td>Invest Cont</td>\n",
       "      <td>740.0</td>\n",
       "      <td>14400    TITUS                        ST</td>\n",
       "      <td>34.2198</td>\n",
       "      <td>-118.4468</td>\n",
       "    </tr>\n",
       "  </tbody>\n",
       "</table>\n",
       "</div>"
      ],
      "text/plain": [
       "   Reporting_Year  Reporting_Month  Reporting_Day  Actual_Year  Actual_Month  Actual_Day  TIME OCC  AREA    AREA NAME  Rpt Dist No  Part 1-2  Crm Cd                                              Crm Cd Desc         Mocodes  Vict Age Vict Sex Vict Descent  Premis Cd                                   Premis Desc Status   Status Desc  Crm Cd 1                                  LOCATION      LAT       LON\n",
       "0            2020                1              8         2020             1           8      2230     3    Southwest          377         2     624                                 BATTERY - SIMPLE ASSAULT       0444 0913        36        F            B      501.0                        SINGLE FAMILY DWELLING     AO   Adult Other     624.0   1100 W  39TH                         PL  34.0141 -118.2978\n",
       "1            2020                1              2         2020             1           1       330     1      Central          163         2     624                                 BATTERY - SIMPLE ASSAULT  0416 1822 1414        25        M            H      102.0                                      SIDEWALK     IC   Invest Cont     624.0    700 S  HILL                         ST  34.0459 -118.2545\n",
       "2            2020                4             14         2020             2          13      1200     1      Central          155         2     845                SEX OFFENDER REGISTRANT OUT OF COMPLIANCE            1501         0        X            X      726.0                               POLICE FACILITY     AA  Adult Arrest     845.0    200 E  6TH                          ST  34.0448 -118.2474\n",
       "3            2020                1              1         2020             1           1      1730    15  N Hollywood         1543         2     745                 VANDALISM - MISDEAMEANOR ($399 OR UNDER)       0329 1402        76        F            W      502.0  MULTI-UNIT DWELLING (APARTMENT, DUPLEX, ETC)     IC   Invest Cont     745.0   5400    CORTEEN                      PL  34.1685 -118.4019\n",
       "4            2020                1              1         2020             1           1       415    19      Mission         1998         2     740  VANDALISM - FELONY ($400 & OVER, ALL CHURCH VANDALISMS)            0329        31        X            X      409.0                           BEAUTY SUPPLY STORE     IC   Invest Cont     740.0  14400    TITUS                        ST  34.2198 -118.4468"
      ]
     },
     "execution_count": 272,
     "metadata": {},
     "output_type": "execute_result"
    }
   ],
   "source": [
    "df.head()"
   ]
  },
  {
   "cell_type": "markdown",
   "id": "9adc1190-3c61-494c-9595-5b5df15bf689",
   "metadata": {},
   "source": [
    "# Explorative Data Analysis"
   ]
  },
  {
   "cell_type": "markdown",
   "id": "33372a8e-c922-4424-bd9a-17699b1426c2",
   "metadata": {},
   "source": [
    "## Univariate Analysis\n",
    "- On which features I would like to have a look?"
   ]
  },
  {
   "cell_type": "markdown",
   "id": "0c79a0df-8de7-4f52-8826-c8d494823cbd",
   "metadata": {},
   "source": [
    "### Numerical Features"
   ]
  },
  {
   "cell_type": "markdown",
   "id": "43d76586-7072-496d-88f7-22d414756cb0",
   "metadata": {},
   "source": [
    "### Categorical Features"
   ]
  },
  {
   "cell_type": "markdown",
   "id": "f05c8d6e-3898-4ab0-ac39-5fe0ab6333f6",
   "metadata": {},
   "source": [
    "## Bivariate Analysis"
   ]
  },
  {
   "cell_type": "markdown",
   "id": "64aafcc3-d8c8-4b2c-b789-0a7e769c8229",
   "metadata": {},
   "source": [
    "### Numerical Features"
   ]
  },
  {
   "cell_type": "markdown",
   "id": "4ed4e07a-3dab-4399-9c1b-b993091f739f",
   "metadata": {},
   "source": [
    "### Categorical Features"
   ]
  },
  {
   "cell_type": "markdown",
   "id": "effa6fd7-8b98-4742-a33c-cbfd368b0ac0",
   "metadata": {},
   "source": [
    "## Multivariate Analysis"
   ]
  },
  {
   "cell_type": "markdown",
   "id": "3bc6c85b-d205-44b7-843b-a146637fb261",
   "metadata": {},
   "source": [
    "### Numerical Features"
   ]
  },
  {
   "cell_type": "markdown",
   "id": "5c5aa4da-ff04-43e1-a865-311c1daf346d",
   "metadata": {},
   "source": [
    "### Categorical Features"
   ]
  },
  {
   "cell_type": "code",
   "execution_count": null,
   "id": "d7da11e3-1a89-49dd-8543-00e522fae279",
   "metadata": {},
   "outputs": [],
   "source": []
  },
  {
   "cell_type": "code",
   "execution_count": null,
   "id": "aab9306c-9811-45d0-97f5-dc093648170f",
   "metadata": {},
   "outputs": [],
   "source": []
  },
  {
   "cell_type": "code",
   "execution_count": null,
   "id": "615e2e2d-e769-48c3-b656-81b66899345a",
   "metadata": {},
   "outputs": [],
   "source": []
  }
 ],
 "metadata": {
  "kernelspec": {
   "display_name": "Python 3 (ipykernel)",
   "language": "python",
   "name": "python3"
  },
  "language_info": {
   "codemirror_mode": {
    "name": "ipython",
    "version": 3
   },
   "file_extension": ".py",
   "mimetype": "text/x-python",
   "name": "python",
   "nbconvert_exporter": "python",
   "pygments_lexer": "ipython3",
   "version": "3.11.5"
  }
 },
 "nbformat": 4,
 "nbformat_minor": 5
}
